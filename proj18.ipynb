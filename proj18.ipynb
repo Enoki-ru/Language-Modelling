{
 "cells": [
  {
   "cell_type": "markdown",
   "metadata": {},
   "source": [
    "# Языковое моделирование\n",
    "Всем снова привет! Сегодня я нашел на ютубе <a href=\"https://www.youtube.com/watch?v=KOIEozoCQo0&t=113s\">ВИДЕО</a> семинара из замечательного ФИЗТЕХа по машинному обучению в плане нейронной сети. Просто увидел, просто зашел, просто повторил чтобы проверить и понять. Поэтому давайте сегодня разберемся с интересной задачей, и ее реализацией.\n",
    "\n",
    "---\n",
    "## Задача\n",
    "Суть в том, что необходимо создать программу, которая будет генерировать имена. У нас имеется только датасет с различными английскими именами, и на их основе нейронка будет создавать уже свои имена, которых может и не существовать на свете. <a href=\"https://www.youtube.com/watch?v=KOIEozoCQo0&t\">(*Ссылка на семинар МФТИ*)</a>\n"
   ]
  },
  {
   "cell_type": "code",
   "execution_count": 1,
   "metadata": {},
   "outputs": [],
   "source": [
    "import numpy as np\n",
    "import matplotlib.pyplot as plt\n",
    "import wget\n",
    "%matplotlib inline"
   ]
  },
  {
   "cell_type": "markdown",
   "metadata": {},
   "source": [
    "В нашем датасете имеется порядка 8000 имен, в результате которого мы сможем создавать различные имена для чего угодно.\n",
    "К примеру, похожая нейронная сеть используется для создания неограниченного количества названий игрушек в IKEA, во многих играх при выборе персонажа\n",
    "\n",
    "Я же думаю, что если вдруг я захочу написать новеллу большую, и не захочу думать над именами для нее, то я просто воспользуюсь этой нейронкой чтобы сразу и быстро подобрать имена"
   ]
  },
  {
   "cell_type": "code",
   "execution_count": 2,
   "metadata": {},
   "outputs": [
    {
     "data": {
      "text/plain": [
       "'names (4).txt'"
      ]
     },
     "execution_count": 2,
     "metadata": {},
     "output_type": "execute_result"
    }
   ],
   "source": [
    "wget.download('https://raw.githubusercontent.com/girafe-ai/ml-course/22f_basic/week0_09_embeddings_and_seq2seq/names', 'names.txt') # Скачал с сайта информацию в txt файл"
   ]
  },
  {
   "cell_type": "code",
   "execution_count": 3,
   "metadata": {},
   "outputs": [],
   "source": [
    "import os\n",
    "start_token = \" \"\n",
    "with open(\"names.txt\") as f: # Из txt файла записываем построчно значения\n",
    "    names = f.read()[:-1].split('\\n') # все кроме последней строчки (последняя строчка это пустая строка в файле)\n",
    "    names = [start_token + line for line in names] # добавили пробел перед именами"
   ]
  },
  {
   "cell_type": "code",
   "execution_count": 4,
   "metadata": {},
   "outputs": [
    {
     "name": "stdout",
     "output_type": "stream",
     "text": [
      "n samples =  7944\n",
      " Abagael\n",
      " Claresta\n",
      " Glory\n",
      " Liliane\n",
      " Prissie\n",
      " Geeta\n",
      " Giovanne\n",
      " Piggy\n"
     ]
    }
   ],
   "source": [
    "print ('n samples = ',len(names))\n",
    "for x in names[::1000]:   # каждое тысячное вывести\n",
    "    print (x)\n"
   ]
  },
  {
   "cell_type": "markdown",
   "metadata": {},
   "source": [
    "Как видите, мы создали список имен names.\n",
    "Давайте посмотрим на распределение длин наших имен"
   ]
  },
  {
   "cell_type": "code",
   "execution_count": 5,
   "metadata": {},
   "outputs": [
    {
     "name": "stdout",
     "output_type": "stream",
     "text": [
      "Максимальная длина слова = 16\n"
     ]
    },
    {
     "data": {
      "text/plain": [
       "Text(0, 0.5, 'Количество имен')"
      ]
     },
     "execution_count": 5,
     "metadata": {},
     "output_type": "execute_result"
    },
    {
     "data": {
      "image/png": "[encoded data removed]",
      "text/plain": [
       "<Figure size 640x480 with 1 Axes>"
      ]
     },
     "metadata": {},
     "output_type": "display_data"
    }
   ],
   "source": [
    "MAX_LENGTH=max(map(len,names)) # map применяет операцию len к каждому элементу списка \n",
    "print(f\"Максимальная длина слова = {MAX_LENGTH}\")\n",
    "plt.title('Распределение длин имен')\n",
    "plt.hist( list(map(len,names)),bins=25);\n",
    "plt.xlabel('Длина имени')\n",
    "plt.ylabel('Количество имен')"
   ]
  },
  {
   "cell_type": "markdown",
   "metadata": {},
   "source": [
    "Как видите, наш график чем-то напоминает гауссово распределение, только правый хвост вытянут\n",
    "\n",
    "Теперь, мы с вами теперь работаем с текстами. Любая последовательность текста у нас есть в датасете. Давайте найдем теперь все уникальные токены наших имен."
   ]
  },
  {
   "cell_type": "code",
   "execution_count": 6,
   "metadata": {},
   "outputs": [
    {
     "data": {
      "text/plain": [
       "{' ', 'A', 'a', 'b', 'e', 'g', 'l'}"
      ]
     },
     "execution_count": 6,
     "metadata": {},
     "output_type": "execute_result"
    }
   ],
   "source": [
    "set(names[0])"
   ]
  },
  {
   "cell_type": "code",
   "execution_count": 7,
   "metadata": {},
   "outputs": [
    {
     "name": "stdout",
     "output_type": "stream",
     "text": [
      "Как видите, мы смотрим сейчас все уникальные токены (символы) которые у нас есть в первой строчке.\n",
      "Также здесь есть некоторые двойные имена, будут и знаки препинания, запятые и тд\n"
     ]
    }
   ],
   "source": [
    "print('Как видите, мы смотрим сейчас все уникальные токены (символы) которые у нас есть в первой строчке.\\nТакже здесь есть некоторые двойные имена, будут и знаки препинания, запятые и тд')"
   ]
  },
  {
   "cell_type": "code",
   "execution_count": 8,
   "metadata": {},
   "outputs": [
    {
     "name": "stdout",
     "output_type": "stream",
     "text": [
      "Метод .update дополняет словарь, дополняя его новыми значениями\n",
      "['v', 't', 'b', 'g', '-', \"'\", 'W', 'Y', 'C', 'n', 'R', 'p', 'y', 'V', 'x', 'z', 'A', 'f', 'm', 'j', 'M', 'e', 'H', 'X', 'U', 'G', 'k', 'J', 'Z', 'T', 'B', 'q', ' ', 'K', 'S', 'D', 'i', 'h', 'L', 'O', 'c', 'r', 'I', 'E', 'P', 's', 'N', 'a', 'Q', 'o', 'F', 'w', 'u', 'l', 'd']\n",
      "Длина нашего списка символов: 55\n"
     ]
    }
   ],
   "source": [
    "tokens= set()\n",
    "for name in names:\n",
    "    tokens.update(set(name)) # создали хеш таблицу в питоне\n",
    "print(\"Метод .update дополняет словарь, дополняя его новыми значениями\")\n",
    "tokens = list(tokens) # преобразуем в list чтобы он был упорядоченный\n",
    "print(tokens)\n",
    "print(f\"Длина нашего списка символов: {len(tokens)}\")\n",
    "num_tokens=len(tokens)\n",
    "assert 50<len(tokens)<60, \"Имена должны иметь от 50 до 60 уникальных символов для декодирования\""
   ]
  },
  {
   "cell_type": "markdown",
   "metadata": {},
   "source": [
    "## Преобразование символов в целые числа\n",
    "\n",
    "---\n",
    "метод Torch создан для обработки чисел, а не строк. Чтобы обучить нашу нейронную сеть, нам нужно будет заменить символы их индексами в списке токенов.\n",
    "\n",
    "Давайте составим словарь, который выполняет это сопоставление."
   ]
  },
  {
   "cell_type": "code",
   "execution_count": 9,
   "metadata": {},
   "outputs": [],
   "source": [
    "tokens.append('<') #Символ начала строки/ <SOS>\n",
    "tokens.append('>') #Символ конца строки/ <EOS>\n",
    "tokens.append('_') #Символ пад токена/ <PAD>"
   ]
  },
  {
   "cell_type": "code",
   "execution_count": 10,
   "metadata": {},
   "outputs": [
    {
     "data": {
      "text/plain": [
       "{'v': 0,\n",
       " 't': 1,\n",
       " 'b': 2,\n",
       " 'g': 3,\n",
       " '-': 4,\n",
       " \"'\": 5,\n",
       " 'W': 6,\n",
       " 'Y': 7,\n",
       " 'C': 8,\n",
       " 'n': 9,\n",
       " 'R': 10,\n",
       " 'p': 11,\n",
       " 'y': 12,\n",
       " 'V': 13,\n",
       " 'x': 14,\n",
       " 'z': 15,\n",
       " 'A': 16,\n",
       " 'f': 17,\n",
       " 'm': 18,\n",
       " 'j': 19,\n",
       " 'M': 20,\n",
       " 'e': 21,\n",
       " 'H': 22,\n",
       " 'X': 23,\n",
       " 'U': 24,\n",
       " 'G': 25,\n",
       " 'k': 26,\n",
       " 'J': 27,\n",
       " 'Z': 28,\n",
       " 'T': 29,\n",
       " 'B': 30,\n",
       " 'q': 31,\n",
       " ' ': 32,\n",
       " 'K': 33,\n",
       " 'S': 34,\n",
       " 'D': 35,\n",
       " 'i': 36,\n",
       " 'h': 37,\n",
       " 'L': 38,\n",
       " 'O': 39,\n",
       " 'c': 40,\n",
       " 'r': 41,\n",
       " 'I': 42,\n",
       " 'E': 43,\n",
       " 'P': 44,\n",
       " 's': 45,\n",
       " 'N': 46,\n",
       " 'a': 47,\n",
       " 'Q': 48,\n",
       " 'o': 49,\n",
       " 'F': 50,\n",
       " 'w': 51,\n",
       " 'u': 52,\n",
       " 'l': 53,\n",
       " 'd': 54,\n",
       " '<': 55,\n",
       " '>': 56,\n",
       " '_': 57}"
      ]
     },
     "execution_count": 10,
     "metadata": {},
     "output_type": "execute_result"
    }
   ],
   "source": [
    "token_to_id={token:idx for idx,token in enumerate(tokens)}\n",
    "token_to_id"
   ]
  },
  {
   "cell_type": "code",
   "execution_count": 11,
   "metadata": {},
   "outputs": [
    {
     "name": "stdout",
     "output_type": "stream",
     "text": [
      "Seems alright!\n"
     ]
    }
   ],
   "source": [
    "assert len(tokens) == len(token_to_id), \"dictionaries must have same size\"\n",
    "\n",
    "for i in range(num_tokens):\n",
    "    assert token_to_id[tokens[i]] == i, \"token identifier must be it's position in tokens list\"\n",
    "\n",
    "print(\"Seems alright!\")"
   ]
  },
  {
   "cell_type": "markdown",
   "metadata": {},
   "source": [
    "теперь мы будем брать сразу несколько последовательностей, и после этого будем их обрабатывать (разделяя их пробелом)"
   ]
  },
  {
   "cell_type": "code",
   "execution_count": 12,
   "metadata": {},
   "outputs": [],
   "source": [
    "def to_matrix(names, max_len=None, pad=token_to_id['_'], dtype='int32', batch_first = True):\n",
    "    \"\"\"Casts a list of names into rnn-digestable matrix\"\"\"\n",
    "    max_len= max_len or max(map(len,names))\n",
    "    max_len +=1\n",
    "    names_ix = np.zeros([len(names),max_len],dtype) +pad \n",
    "    names_ix[:,0]=token_to_id['<'] #SOS\n",
    "    #print(f\"Начальная матрица:\\n{names_ix}\")\n",
    "    for i in range(len(names)):\n",
    "        line_ix = [token_to_id[c] for c in names[i]]\n",
    "        names_ix[i, 1:len(line_ix)] = line_ix[1:]\n",
    "        names_ix[i, len(line_ix)] = token_to_id[\">\"]\n",
    "    return names_ix\n",
    "    if not batch_first: # convert [batch, time] into [time, batch]\n",
    "        names_ix = np.transpose(names_ix)"
   ]
  },
  {
   "cell_type": "code",
   "execution_count": 13,
   "metadata": {},
   "outputs": [
    {
     "name": "stdout",
     "output_type": "stream",
     "text": [
      " Abagael\n",
      " Glory\n",
      " Prissie\n",
      " Giovanne\n",
      "[[55 16  2 47  3 47 21 53 56 57]\n",
      " [55 25 53 49 41 12 56 57 57 57]\n",
      " [55 44 41 36 45 45 36 21 56 57]\n",
      " [55 25 36 49  0 47  9  9 21 56]]\n"
     ]
    }
   ],
   "source": [
    "#Пример: cast 4 random names to matrices, pad with zeros\n",
    "print('\\n'.join(names[::2000]))\n",
    "print(to_matrix(names[::2000]))"
   ]
  },
  {
   "cell_type": "markdown",
   "metadata": {},
   "source": [
    "Как теперь вы видите, данная функция строит так называемую карту с id символов, которые лежат в матрице. Размер матрицы зависит от максимальной длины среди имен.\n",
    "Если какое-то слово имеет длину меньше чем  максимума, то заполняются только те ячейки, которые содержат какие-то символы, остальные изначально выставляются как пробелы с id=9,\n",
    "которые всегда можно будет убрать позже. Это называется pad токенами, и они как раз задаются в функции. Круто) Поехали дальше\n",
    "\n",
    "Также мы специально добавляем токены начала и конца строки, чтобы можно было легко и быстро определять границы строки, чтобы дальше мы не считывали строку"
   ]
  },
  {
   "cell_type": "code",
   "execution_count": 14,
   "metadata": {},
   "outputs": [
    {
     "data": {
      "text/plain": [
       "Text(0.5, 1.0, 'Знак начала строки SOS')"
      ]
     },
     "execution_count": 14,
     "metadata": {},
     "output_type": "execute_result"
    },
    {
     "data": {
      "image/png": "[encoded data removed]",
      "text/plain": [
       "<Figure size 640x480 with 1 Axes>"
      ]
     },
     "metadata": {},
     "output_type": "display_data"
    }
   ],
   "source": [
    "plt.pcolormesh(to_matrix(names[::2000])==55)\n",
    "plt.title(\"Знак начала строки SOS\")"
   ]
  },
  {
   "cell_type": "code",
   "execution_count": 15,
   "metadata": {},
   "outputs": [
    {
     "data": {
      "text/plain": [
       "Text(0.5, 1.0, 'Знак конца строки EOS')"
      ]
     },
     "execution_count": 15,
     "metadata": {},
     "output_type": "execute_result"
    },
    {
     "data": {
      "image/png": "[encoded data removed]",
      "text/plain": [
       "<Figure size 640x480 with 1 Axes>"
      ]
     },
     "metadata": {},
     "output_type": "display_data"
    }
   ],
   "source": [
    "plt.pcolormesh(to_matrix(names[::2000])==56)\n",
    "plt.title(\"Знак конца строки EOS\")"
   ]
  },
  {
   "cell_type": "code",
   "execution_count": 16,
   "metadata": {},
   "outputs": [
    {
     "data": {
      "text/plain": [
       "Text(0.5, 1.0, 'Знак PAD')"
      ]
     },
     "execution_count": 16,
     "metadata": {},
     "output_type": "execute_result"
    },
    {
     "data": {
      "image/png": "[encoded data removed]",
      "text/plain": [
       "<Figure size 640x480 with 1 Axes>"
      ]
     },
     "metadata": {},
     "output_type": "display_data"
    }
   ],
   "source": [
    "plt.pcolormesh(to_matrix(names[::2000])==token_to_id[\"_\"])\n",
    "plt.title(\"Знак PAD\")"
   ]
  },
  {
   "cell_type": "markdown",
   "metadata": {},
   "source": [
    "Ну и давайте проверим что у нас всё корректно, отобразив информацию строки снова в символьном варианте"
   ]
  },
  {
   "cell_type": "code",
   "execution_count": 17,
   "metadata": {},
   "outputs": [
    {
     "name": "stdout",
     "output_type": "stream",
     "text": [
      "<Abagael>_\n",
      "<Glory>___\n",
      "<Prissie>_\n",
      "<Giovanne>\n"
     ]
    }
   ],
   "source": [
    "for i in range(4):\n",
    "    print(''.join([tokens[idx] for idx in to_matrix(names[::2000])[i]]))"
   ]
  },
  {
   "cell_type": "markdown",
   "metadata": {},
   "source": [
    "# Рекуррентная нейронная сеть\n",
    "\n",
    "Мы можем переписать рекуррентную нейронную сеть как последовательное применение плотного слоя для ввода $x_t$ и предыдущего состояния rnn $h_t$. Это именно то, что мы сейчас и собираемся сделать.\n",
    "\n",
    "<img src=\"./rnn.png\" width=480>\n",
    "\n",
    "Поскольку мы обучаем языковую модель, также должны быть:\n",
    "* Слой встраивания, который преобразует идентификатор символа x_t в вектор.\n",
    "* Выходной слой, который предсказывает вероятности следующей фонемы"
   ]
  },
  {
   "cell_type": "code",
   "execution_count": 18,
   "metadata": {},
   "outputs": [
    {
     "name": "stderr",
     "output_type": "stream",
     "text": [
      "c:\\Python310\\lib\\site-packages\\tqdm\\auto.py:22: TqdmWarning: IProgress not found. Please update jupyter and ipywidgets. See https://ipywidgets.readthedocs.io/en/stable/user_install.html\n",
      "  from .autonotebook import tqdm as notebook_tqdm\n"
     ]
    }
   ],
   "source": [
    "import torch, torch.nn as nn\n",
    "import torch.nn.functional as F\n"
   ]
  },
  {
   "cell_type": "code",
   "execution_count": 23,
   "metadata": {},
   "outputs": [
    {
     "data": {
      "text/plain": [
       "Parameter containing:\n",
       "tensor([[ 1.1439,  1.1410],\n",
       "        [ 1.0509,  0.4999],\n",
       "        [-0.9100, -0.2414],\n",
       "        [-0.4943,  1.1007]], requires_grad=True)"
      ]
     },
     "execution_count": 23,
     "metadata": {},
     "output_type": "execute_result"
    }
   ],
   "source": [
    "# Рассмотрим пример для оперции Embedding\n",
    "embed=nn.Embedding(4,2) # 4 уникальный токена отображаем в 2х-мерное пространство\n",
    "next(embed.parameters())"
   ]
  },
  {
   "cell_type": "markdown",
   "metadata": {},
   "source": [
    "Подробнее про Эмбеддинг можете прочитать тут: <a href=\"https://habr.com/ru/company/wunderfund/blog/590651/\"> ССЫЛКА </a>\n",
    "\n",
    "А так могу сказать, что таким методом можно сразу заставить машине составлять матрицу весов, но и использовать наши токены в векторном виде, чтобы потом можно было исходя из вектора научить машину предсказывать слово для минимизации ошибок и размерности матриц (Как видите, изначально у нас было 55 различных символов, а мы их представили в виде 16мерного вектора (embedding_size=16). Таким образом вычисления уменьшаться в десятки раз за счет небольшой потери качества)"
   ]
  },
  {
   "cell_type": "code",
   "execution_count": 24,
   "metadata": {},
   "outputs": [],
   "source": [
    "class CharRNNCell(nn.Module): \n",
    "    \"\"\"\n",
    "    Здесь мы будем реализовать одиночный слой, который по итогу будет крутиться раз за разом\n",
    "    __init__ - конструктор\n",
    "    \"\"\"\n",
    "    def __init__(self, num_tokens=len(tokens), embedding_size=16, rnn_num_units=64):\n",
    "        super(self.__class__,self).__init__()\n",
    "        self.num_units = rnn_num_units\n",
    "        \n",
    "        self.embedding = nn.Embedding(num_tokens, embedding_size) # Соответствущему индексу выбирает нужную матрицу весов для создания нужного выходного вектора\n",
    "        self.rnn_update = nn.Linear(embedding_size + rnn_num_units, rnn_num_units)\n",
    "        self.rnn_to_logits = nn.Linear(rnn_num_units, num_tokens)\n",
    "        \n",
    "    def forward(self, x, h_prev):\n",
    "        \"\"\"\n",
    "        Этот метод вычисляет h_next(x, h_prev) и log P(x_next | h_next)\n",
    "        Мы будем вызывать его несколько раз, чтобы создать всю последовательность целиком.\n",
    "        \n",
    "        :param x: пакет идентификаторов символов, содержащий вектор int64\n",
    "        :param h_prev: предыдущие скрытые состояния rnn, содержащие матрицу [batch, rnn_num_units] float32\n",
    "        \"\"\"\n",
    "        # получаем векторное вложение embedding x\n",
    "        x_emb = self.embedding(x) \n",
    "        \n",
    "        # вычислим следующее скрытое состояние, используя self.rnn_update\n",
    "        # подсказка: использовать будем torch.cat (..., dim=...) для объединения\n",
    "\n",
    "        x_and_h = torch.cat([x_emb,h_prev], dim=-1)\n",
    "        h_next = self.rnn_update(x_and_h)\n",
    "        \n",
    "        h_next = torch.tanh(h_next)\n",
    "        \n",
    "        assert h_next.size() == h_prev.size()\n",
    "        \n",
    "        #вычислим логиты для следующих символьных проб, используя линейный классификатор\n",
    "        logits = self.rnn_to_logits(h_next)\n",
    "        \n",
    "        return h_next, F.log_softmax(logits, -1)\n",
    "    \n",
    "    def initial_state(self, batch_size):\n",
    "        \"\"\" return rnn state before it processes first input (aka h0) \"\"\"\n",
    "        return torch.zeros(batch_size, self.num_units, requires_grad=True)"
   ]
  },
  {
   "cell_type": "code",
   "execution_count": 27,
   "metadata": {},
   "outputs": [
    {
     "name": "stdout",
     "output_type": "stream",
     "text": [
      "CharRNNCell(\n",
      "  (embedding): Embedding(58, 16)\n",
      "  (rnn_update): Linear(in_features=80, out_features=64, bias=True)\n",
      "  (rnn_to_logits): Linear(in_features=64, out_features=58, bias=True)\n",
      ")\n"
     ]
    }
   ],
   "source": [
    "hyperparams = {\n",
    "    'depth':11,\n",
    "    'lengh': 24\n",
    "}\n",
    "char_rnn = CharRNNCell()\n",
    "print(char_rnn)"
   ]
  },
  {
   "cell_type": "markdown",
   "metadata": {},
   "source": [
    "### Цикл RNN\n",
    "\n",
    "Как только мы определили один шаг RNN, мы можем применить его в цикле, чтобы получить прогнозы на каждом шаге."
   ]
  },
  {
   "cell_type": "code",
   "execution_count": 29,
   "metadata": {},
   "outputs": [],
   "source": [
    "def rnn_loop(char_rnn, batch_ix):\n",
    "    \"\"\"\n",
    "    вычисляет логарифм вероятности следующего токена\n",
    "    :param names_ix: an int32 matrix of shape [batch, time], output of to_matrix(names)\n",
    "    \"\"\"\n",
    "    batch_size, max_length = batch_ix.size()\n",
    "    hid_state = char_rnn.initial_state(batch_size)\n",
    "    logprobs = []\n",
    "\n",
    "    for x_t in batch_ix.transpose(0,1):\n",
    "        hid_state, logp_next = char_rnn(x_t, hid_state)  # <-- here we call your one-step code\n",
    "        logprobs.append(logp_next)\n",
    "        \n",
    "    return torch.stack(logprobs, dim=1)"
   ]
  },
  {
   "cell_type": "code",
   "execution_count": 31,
   "metadata": {},
   "outputs": [],
   "source": [
    "num_tokens=len(tokens)"
   ]
  },
  {
   "cell_type": "code",
   "execution_count": 40,
   "metadata": {},
   "outputs": [],
   "source": [
    "batch_ix = to_matrix(names[:5])\n",
    "batch_ix = torch.tensor(batch_ix, dtype=torch.int64)\n",
    "\n",
    "logit_seq = rnn_loop(char_rnn, batch_ix)\n",
    "\n",
    "assert torch.max(logp_seq).data.numpy() <= 0\n",
    "assert tuple(logp_seq.size()) ==  batch_ix.shape + (num_tokens,)"
   ]
  },
  {
   "cell_type": "markdown",
   "metadata": {},
   "source": [
    "### Вероятность и градиенты\n",
    "\n",
    "Теперь мы можем обучить нашу нейронную сеть минимизировать перекрестную энтропию (максимизировать логарифмическую вероятность) с помощью фактических следующих токенов.\n",
    "\n",
    "Чтобы сделать это векторизованным образом, мы берем `batch_ix[:, 1:]` - матрицу идентификаторов токенов, сдвинутую на i шаг влево, так что i-й элемент фактически является \"следующим токеном\" для i-го прогноза"
   ]
  },
  {
   "cell_type": "code",
   "execution_count": 41,
   "metadata": {},
   "outputs": [],
   "source": [
    "predictions_logits = logit_seq[:, :-1]\n",
    "actual_next_tokens = batch_ix[:, 1:]\n",
    "\n",
    "# logp_next = torch.gather(\n",
    "#     predictions_logp,\n",
    "#     dim=2, \n",
    "#     index=actual_next_tokens[:,:,None]\n",
    "#     )\n",
    "\n",
    "# loss = -logp_next.mean()"
   ]
  },
  {
   "cell_type": "code",
   "execution_count": 42,
   "metadata": {},
   "outputs": [],
   "source": [
    "loss_func = nn.CrossEntropyLoss(ignore_index=token_to_id['_'])\n",
    "loss2 = loss_func(\n",
    "    predictions_logits.reshape((-1, num_tokens)),\n",
    "    actual_next_tokens.reshape(-1)\n",
    "    )"
   ]
  },
  {
   "cell_type": "code",
   "execution_count": 43,
   "metadata": {},
   "outputs": [],
   "source": [
    "loss2.backward()"
   ]
  },
  {
   "cell_type": "code",
   "execution_count": 44,
   "metadata": {},
   "outputs": [],
   "source": [
    "for w in char_rnn.parameters():\n",
    "    assert w.grad is not None and torch.max(torch.abs(w.grad)).data.numpy() != 0, \\\n",
    "        \"Loss is not differentiable w.r.t. a weight with shape %s. Check forward method.\" % (w.size(),)"
   ]
  },
  {
   "cell_type": "markdown",
   "metadata": {},
   "source": [
    "### Тренировочный цикл\n",
    "\n",
    "Мы обучаем наш char-rnn точно так же, как мы обучаем любую модель глубокого обучения: с помощью мини-пакетного sgd.\n",
    "\n",
    "Единственное отличие заключается в том, что на этот раз мы сэмплируем строки, а не изображения или звук."
   ]
  },
  {
   "cell_type": "code",
   "execution_count": 36,
   "metadata": {},
   "outputs": [],
   "source": [
    "from IPython.display import clear_output\n",
    "from random import sample\n",
    "\n",
    "char_rnn = CharRNNCell()\n",
    "opt = torch.optim.Adam(char_rnn.parameters())\n",
    "history = []"
   ]
  },
  {
   "cell_type": "code",
   "execution_count": 45,
   "metadata": {},
   "outputs": [
    {
     "data": {
      "image/png": "[encoded data removed]",
      "text/plain": [
       "<Figure size 640x480 with 1 Axes>"
      ]
     },
     "metadata": {},
     "output_type": "display_data"
    }
   ],
   "source": [
    "MAX_LENGTH = 16\n",
    "\n",
    "for i in range(1000):\n",
    "    batch_ix = to_matrix(sample(names, 32), max_len=MAX_LENGTH)\n",
    "    batch_ix = torch.tensor(batch_ix, dtype=torch.int64)\n",
    "    \n",
    "    logits_seq = rnn_loop(char_rnn, batch_ix)\n",
    "    \n",
    "    # compute loss\n",
    "    #<YOUR CODE>\n",
    "    predictions_logits = logits_seq[:, :-1]\n",
    "    actual_next_tokens = batch_ix[:, 1:]\n",
    "\n",
    "    loss = loss_func(\n",
    "    predictions_logits.reshape((-1, num_tokens)),\n",
    "    actual_next_tokens.reshape(-1)\n",
    "    )\n",
    "    loss.backward()\n",
    "    opt.step()\n",
    "    \n",
    "    opt.zero_grad()\n",
    "    \n",
    "    history.append(loss.data.numpy())\n",
    "    if (i+1)%100==0:\n",
    "        clear_output(True)\n",
    "        plt.plot(history,label='loss')\n",
    "        plt.legend()\n",
    "        plt.show()\n",
    "\n",
    "assert np.mean(history[:10]) > np.mean(history[-10:]), \"RNN didn't converge.\""
   ]
  },
  {
   "cell_type": "markdown",
   "metadata": {},
   "source": [
    "### RNN: выборка\n",
    "Как только мы немного натренируем нашу сеть, давайте приступим к фактическому созданию материала. \n",
    "Все, что нам нужно, это функция single rnn step, которую вы определили в `char_rnn.forward`."
   ]
  },
  {
   "cell_type": "code",
   "execution_count": 56,
   "metadata": {},
   "outputs": [],
   "source": [
    "def generate_sample(char_rnn, seed_phrase='<', max_length=MAX_LENGTH, temperature=1.0):\n",
    "    '''\n",
    "   Функция генерирует текст, заданный фразой длиной не менее SEQ_LENGTH.\n",
    "    :параметр seed_phrase: Начало имени. RNN просят продолжить фразу\n",
    "    :параметр max_length: максимальная длина вывода, включая начальную фразу\n",
    "    :temperature параметр: коэффициент для отбора проб.  более высокая температура приводит к более хаотичным выходам,\n",
    "    меньшая температура сходится к единственному наиболее вероятному выходу\n",
    "    '''\n",
    "    \n",
    "    x_sequence = [token_to_id[token] for token in seed_phrase]\n",
    "    x_sequence = torch.tensor([x_sequence], dtype=torch.int64)\n",
    "    hid_state = char_rnn.initial_state(batch_size=1)\n",
    "    \n",
    "    #feed the seed phrase, if any\n",
    "    for i in range(len(seed_phrase) - 1):\n",
    "        hid_state, _ = char_rnn(x_sequence[:, i], hid_state)\n",
    "    \n",
    "    #start generating\n",
    "    for _ in range(max_length - len(seed_phrase)):\n",
    "        hid_state, logits_next = char_rnn(x_sequence[:, -1], hid_state)\n",
    "        p_next = F.softmax(logits_next / temperature, dim=-1).data.numpy()[0]\n",
    "        \n",
    "        # sample next token and push it back into x_sequence\n",
    "        next_ix = np.random.choice(num_tokens, p=p_next)\n",
    "        next_ix = torch.tensor([[next_ix]], dtype=torch.int64)\n",
    "        x_sequence = torch.cat([x_sequence, next_ix], dim=1)\n",
    "        if next_ix == token_to_id['>']:\n",
    "          break\n",
    "    return ''.join([tokens[ix] for ix in x_sequence.data.numpy()[0]])"
   ]
  },
  {
   "cell_type": "code",
   "execution_count": 48,
   "metadata": {},
   "outputs": [],
   "source": [
    "def softmax(x, temp=1.):\n",
    "  exps = np.exp((x - x.max()) / temp)\n",
    "  return exps / exps.sum()"
   ]
  },
  {
   "cell_type": "code",
   "execution_count": 49,
   "metadata": {},
   "outputs": [
    {
     "data": {
      "text/plain": [
       "<BarContainer object of 5 artists>"
      ]
     },
     "execution_count": 49,
     "metadata": {},
     "output_type": "execute_result"
    },
    {
     "data": {
      "image/png": "[encoded data removed]",
      "text/plain": [
       "<Figure size 640x480 with 1 Axes>"
      ]
     },
     "metadata": {},
     "output_type": "display_data"
    }
   ],
   "source": [
    "plt.bar(np.arange(5), softmax(np.array([1, 3 , 4, 7, 9]), 1))"
   ]
  },
  {
   "cell_type": "code",
   "execution_count": 60,
   "metadata": {},
   "outputs": [
    {
     "name": "stdout",
     "output_type": "stream",
     "text": [
      "Marina\n",
      "Carina\n",
      "Marie\n",
      "Marina\n",
      "Carina\n",
      "Marine\n",
      "Carina\n",
      "Marine\n",
      "Carina\n",
      "Marina\n"
     ]
    }
   ],
   "source": [
    "for _ in range(10):\n",
    "    print(generate_sample(char_rnn, temperature=0.1)[1:-1])"
   ]
  },
  {
   "cell_type": "code",
   "execution_count": 70,
   "metadata": {},
   "outputs": [
    {
     "name": "stdout",
     "output_type": "stream",
     "text": [
      "<Serayna>\n",
      "<Seryinn>\n",
      "<Seril>\n",
      "<Serik>\n",
      "<Serline>\n",
      "<Sermale>\n",
      "<Serelel>\n",
      "<Serelie>\n",
      "<Seria>\n",
      "<Sera>\n",
      "<Serlana>\n",
      "<Serertie>\n",
      "<Serina>\n",
      "<Serik>\n",
      "<Sertia>\n"
     ]
    }
   ],
   "source": [
    "for _ in range(15):\n",
    "    print(generate_sample(char_rnn, seed_phrase='<Ser'))"
   ]
  },
  {
   "cell_type": "code",
   "execution_count": 64,
   "metadata": {},
   "outputs": [
    {
     "name": "stdout",
     "output_type": "stream",
     "text": [
      "<Elde>\n",
      "<Eldoall>\n",
      "<Eldallan>\n",
      "<Eldarten>\n",
      "<Eldite>\n",
      "<Elden>\n",
      "<Eldie>\n",
      "<Eldie>\n",
      "<Eldra>\n",
      "<Eldenve>\n",
      "<Eldida>\n",
      "<Elde>\n",
      "<Elden>\n",
      "<Elde>\n",
      "<Eld>\n"
     ]
    }
   ],
   "source": [
    "for _ in range(15):\n",
    "    print(generate_sample(char_rnn, seed_phrase='<Eld'))"
   ]
  },
  {
   "cell_type": "code",
   "execution_count": 65,
   "metadata": {},
   "outputs": [
    {
     "name": "stdout",
     "output_type": "stream",
     "text": [
      "<Antina>\n",
      "<Antore>\n",
      "<Anthren>\n",
      "<Anthorl>\n",
      "<Anttt>\n",
      "<Anteldie>\n",
      "<Anton>\n",
      "<Anta>\n",
      "<Antherlna>\n",
      "<Antarels>\n",
      "<Antola>\n",
      "<Anthain>\n",
      "<Antcertia>\n",
      "<Antlynn>\n",
      "<AntitW>\n"
     ]
    }
   ],
   "source": [
    "for _ in range(15):\n",
    "    print(generate_sample(char_rnn, seed_phrase='<Ant'))"
   ]
  },
  {
   "cell_type": "code",
   "execution_count": 68,
   "metadata": {},
   "outputs": [
    {
     "name": "stdout",
     "output_type": "stream",
     "text": [
      "<Valien>\n",
      "<Val>\n",
      "<Vales>\n",
      "<Valim>\n",
      "<Valon>\n",
      "<Valina>\n",
      "<Valena>\n",
      "<Valeeg>\n",
      "<Valitla>\n",
      "<Vallodalda>\n",
      "<Vallor->\n",
      "<Valess>\n",
      "<Valestte>\n",
      "<Vallian>\n",
      "<Valy>\n"
     ]
    }
   ],
   "source": [
    "for _ in range(15):\n",
    "    print(generate_sample(char_rnn, seed_phrase='<Val'))"
   ]
  },
  {
   "cell_type": "markdown",
   "metadata": {},
   "source": [
    "### Более серьезно\n",
    "\n",
    "То, что мы только что сделали, - это ручная низкоуровневая реализация RNN. Хотя это круто, я думаю, вам не понравится идея переписывать его с нуля каждый раз. \n",
    "\n",
    "Как вы уже могли догадаться, у torch есть решение для этого. Чтобы быть более конкретным, есть два варианта:\n",
    "* `nn.RNNCell(emb_size, rnn_num_units)` - реализует один шаг RNN точно так же, как вы это сделали. В основном concat-linear-tanh\n",
    "* `nn.RNN(emb_size, rnn_num_units` - реализует весь rnn_loop для вас.\n",
    "\n",
    "Есть также `nn.LSTMCell` против `nn.LSTM`, `nn.GRUCell` против `nn.GRU` и т.д. и т.п.\n",
    "\n",
    "В этом примере мы перепишем char_rnn и rnn_loop, используя высокоуровневый rnn API."
   ]
  },
  {
   "cell_type": "code",
   "execution_count": 52,
   "metadata": {},
   "outputs": [],
   "source": [
    "class CharRNNLoop(nn.Module):\n",
    "    def __init__(self, num_tokens=num_tokens, emb_size=16, rnn_num_units=64):\n",
    "        super(self.__class__, self).__init__()\n",
    "        self.emb = nn.Embedding(num_tokens, emb_size)\n",
    "        self.rnn = nn.RNN(emb_size, rnn_num_units, batch_first=True)\n",
    "        self.hid_to_logits = nn.Linear(rnn_num_units, num_tokens)\n",
    "        \n",
    "    def forward(self, x):\n",
    "        assert isinstance(x.data, torch.LongTensor)\n",
    "        h_seq, _ = self.rnn(self.emb(x))\n",
    "        next_logits = self.hid_to_logits(h_seq)\n",
    "        next_logp = F.log_softmax(next_logits, dim=-1)\n",
    "        return next_logp\n",
    "    \n",
    "model = CharRNNLoop()\n",
    "opt = torch.optim.Adam(model.parameters())\n",
    "history = []"
   ]
  },
  {
   "cell_type": "code",
   "execution_count": 55,
   "metadata": {},
   "outputs": [],
   "source": [
    "# модель применяется ко всей последовательности\n",
    "batch_ix = to_matrix(sample(names, 32), max_len=MAX_LENGTH)\n",
    "batch_ix = torch.LongTensor(batch_ix)\n",
    "\n",
    "logp_seq = model(batch_ix)\n",
    "\n",
    "# вычисляем потери\n",
    "loss = F.nll_loss(logp_seq[:, 1:].contiguous().view(-1, num_tokens), \n",
    "                  batch_ix[:, :-1].contiguous().view(-1))\n",
    "\n",
    "loss.backward()"
   ]
  },
  {
   "cell_type": "markdown",
   "metadata": {},
   "source": [
    "### Подводя итог:\n",
    "- PyTorch удобен как для прототипирования, так и для производства\n",
    "- Существует множество предварительно реализованных методов / слоев / активаций из коробки\n",
    "- Гораздо проще ( *действительно проще*) использовать PyTorch, чем TensorFlow на начальном уровне. \n",
    "- Нейронные сети - это не \"черные ящики\", они довольно приятны и просты в использовании (почти всегда). (вообще не всегда)\n",
    "- Есть многие вещи, которые мне здесь непонятны в теоретическом плане, однако сильно вникать я не хочу тк нейронками пока не хочу заниматься"
   ]
  },
  {
   "cell_type": "code",
   "execution_count": null,
   "metadata": {},
   "outputs": [],
   "source": []
  }
 ],
 "metadata": {
  "kernelspec": {
   "display_name": "Python 3 (ipykernel)",
   "language": "python",
   "name": "python3"
  },
  "language_info": {
   "codemirror_mode": {
    "name": "ipython",
    "version": 3
   },
   "file_extension": ".py",
   "mimetype": "text/x-python",
   "name": "python",
   "nbconvert_exporter": "python",
   "pygments_lexer": "ipython3",
   "version": "3.10.5"
  },
  "vscode": {
   "interpreter": {
    "hash": "369f2c481f4da34e4445cda3fffd2e751bd1c4d706f27375911949ba6bb62e1c"
   }
  }
 },
 "nbformat": 4,
 "nbformat_minor": 4
}
